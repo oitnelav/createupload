{
 "cells": [
  {
   "cell_type": "code",
   "execution_count": 1,
   "metadata": {},
   "outputs": [],
   "source": [
    "import pandas as pd"
   ]
  },
  {
   "cell_type": "code",
   "execution_count": 2,
   "metadata": {},
   "outputs": [],
   "source": [
    "catalogue = pd.read_excel(\"Catalogue Update.xlsx\")\n",
    "forecast = pd.read_excel(\"Forecast.xlsx\")\n",
    "purchase = pd.read_excel(\"Item Purchases by Item Detail.xlsx\")"
   ]
  },
  {
   "cell_type": "code",
   "execution_count": 3,
   "metadata": {},
   "outputs": [
    {
     "name": "stdout",
     "output_type": "stream",
     "text": [
      "<class 'pandas.core.frame.DataFrame'>\n",
      "RangeIndex: 23258 entries, 0 to 23257\n",
      "Data columns (total 44 columns):\n",
      " #   Column                  Non-Null Count  Dtype  \n",
      "---  ------                  --------------  -----  \n",
      " 0   #                       23258 non-null  int64  \n",
      " 1   Kategori                23258 non-null  object \n",
      " 2   SubItemCode             23258 non-null  object \n",
      " 3   SubItemName             23258 non-null  object \n",
      " 4   ItemCode                23258 non-null  object \n",
      " 5   ItemName                23258 non-null  object \n",
      " 6   ItemStatus              23258 non-null  object \n",
      " 7   Minimal                 23258 non-null  int64  \n",
      " 8   Maximal                 23258 non-null  int64  \n",
      " 9   InventoryUoM            23244 non-null  object \n",
      " 10  IsiCtn                  23258 non-null  float64\n",
      " 11  Volume (CBM)            23258 non-null  float64\n",
      " 12  ItemCost                23258 non-null  float64\n",
      " 13  LastPurchasePrice       23258 non-null  float64\n",
      " 14  Currency                16275 non-null  object \n",
      " 15  PriceFC                 23258 non-null  float64\n",
      " 16  HargaJualLusin          23258 non-null  int64  \n",
      " 17  HargaJualKoli           23258 non-null  int64  \n",
      " 18  HargaJualSpecial        23258 non-null  int64  \n",
      " 19  HargaJualUnlock         23258 non-null  int64  \n",
      " 20  CountSO                 16813 non-null  float64\n",
      " 21  Document SO Diproses    16716 non-null  float64\n",
      " 22  SumSO                   23258 non-null  float64\n",
      " 23  Quantity SO Diproses    23258 non-null  float64\n",
      " 24  Tanggal Last SO         16813 non-null  object \n",
      " 25  VendorCode              16275 non-null  object \n",
      " 26  VendorName              16275 non-null  object \n",
      " 27  Tanggal Last GRPO       14649 non-null  object \n",
      " 28  Tanggal Due Date GRPO   14649 non-null  object \n",
      " 29  QtyLastGR               23258 non-null  float64\n",
      " 30  CountDocGR              14649 non-null  float64\n",
      " 31  InStock                 23258 non-null  float64\n",
      " 32  Total instock Value     23258 non-null  float64\n",
      " 33  OnOrder                 23258 non-null  float64\n",
      " 34  Total On Order Value    23258 non-null  float64\n",
      " 35  IsCommited              23258 non-null  float64\n",
      " 36  Total IsCommited Value  23258 non-null  float64\n",
      " 37  PR                      23258 non-null  int64  \n",
      " 38  PR Value                23258 non-null  float64\n",
      " 39  qtyAR                   23258 non-null  float64\n",
      " 40  AR Value                23258 non-null  float64\n",
      " 41  FORECAST                23258 non-null  float64\n",
      " 42  FORECAST Value          23258 non-null  float64\n",
      " 43  Directory               0 non-null      float64\n",
      "dtypes: float64(23), int64(8), object(13)\n",
      "memory usage: 7.8+ MB\n"
     ]
    }
   ],
   "source": [
    "forecast.info()"
   ]
  },
  {
   "cell_type": "code",
   "execution_count": 4,
   "metadata": {},
   "outputs": [
    {
     "name": "stderr",
     "output_type": "stream",
     "text": [
      "C:\\Users\\SJK2525\\AppData\\Local\\Temp\\ipykernel_1776\\1904040079.py:2: SettingWithCopyWarning: \n",
      "A value is trying to be set on a copy of a slice from a DataFrame\n",
      "\n",
      "See the caveats in the documentation: https://pandas.pydata.org/pandas-docs/stable/user_guide/indexing.html#returning-a-view-versus-a-copy\n",
      "  list.rename(columns={'ItemCode': 'Item No.'}, inplace=True)\n"
     ]
    }
   ],
   "source": [
    "list = forecast[forecast['ItemStatus'] == 'Active']\n",
    "list.rename(columns={'ItemCode': 'Item No.'}, inplace=True)\n",
    "list = pd.merge(list, catalogue[['Item No.', 'Gudang', 'Asemka', 'Tengsek']], on='Item No.', how='left')\n",
    "list = list[['Kategori', 'SubItemName','VendorName', 'Item No.', 'ItemName', 'Gudang', 'Asemka', 'Tengsek', 'OnOrder','IsiCtn', 'InventoryUoM','LastPurchasePrice','PriceFC' ,'HargaJualLusin', 'HargaJualKoli', 'HargaJualSpecial', 'Tanggal Last SO', 'Tanggal Last GRPO', 'Tanggal Due Date GRPO', 'QtyLastGR']]"
   ]
  },
  {
   "cell_type": "code",
   "execution_count": 19,
   "metadata": {},
   "outputs": [
    {
     "data": {
      "text/html": [
       "<div>\n",
       "<style scoped>\n",
       "    .dataframe tbody tr th:only-of-type {\n",
       "        vertical-align: middle;\n",
       "    }\n",
       "\n",
       "    .dataframe tbody tr th {\n",
       "        vertical-align: top;\n",
       "    }\n",
       "\n",
       "    .dataframe thead th {\n",
       "        text-align: right;\n",
       "    }\n",
       "</style>\n",
       "<table border=\"1\" class=\"dataframe\">\n",
       "  <thead>\n",
       "    <tr style=\"text-align: right;\">\n",
       "      <th></th>\n",
       "      <th>Kategori</th>\n",
       "      <th>SubItemName</th>\n",
       "      <th>VendorName</th>\n",
       "      <th>Item No.</th>\n",
       "      <th>ItemName</th>\n",
       "      <th>Gudang</th>\n",
       "      <th>Asemka</th>\n",
       "      <th>Tengsek</th>\n",
       "      <th>OnOrder</th>\n",
       "      <th>IsiCtn</th>\n",
       "      <th>InventoryUoM</th>\n",
       "      <th>LastPurchasePrice</th>\n",
       "      <th>PriceFC</th>\n",
       "      <th>HargaJualLusin</th>\n",
       "      <th>HargaJualKoli</th>\n",
       "      <th>HargaJualSpecial</th>\n",
       "      <th>Tanggal Last SO</th>\n",
       "      <th>Tanggal Last GRPO</th>\n",
       "      <th>Tanggal Due Date GRPO</th>\n",
       "      <th>QtyLastGR</th>\n",
       "    </tr>\n",
       "  </thead>\n",
       "  <tbody>\n",
       "    <tr>\n",
       "      <th>9324</th>\n",
       "      <td>ALAT MAKE UP</td>\n",
       "      <td>KUKU PALSU DEWASA</td>\n",
       "      <td>2002</td>\n",
       "      <td>KKP-3362D4</td>\n",
       "      <td>KUKU PALSU DWS MTF FRENCH BOX PUTIH</td>\n",
       "      <td>0.0</td>\n",
       "      <td>18.0</td>\n",
       "      <td>1.0</td>\n",
       "      <td>0.0</td>\n",
       "      <td>60.0</td>\n",
       "      <td>LSN</td>\n",
       "      <td>25771.72</td>\n",
       "      <td>10.2</td>\n",
       "      <td>35000</td>\n",
       "      <td>34000</td>\n",
       "      <td>33000</td>\n",
       "      <td>08.07.24</td>\n",
       "      <td>25.05.24</td>\n",
       "      <td>04.06.24</td>\n",
       "      <td>360.0</td>\n",
       "    </tr>\n",
       "  </tbody>\n",
       "</table>\n",
       "</div>"
      ],
      "text/plain": [
       "          Kategori        SubItemName VendorName    Item No.  \\\n",
       "9324  ALAT MAKE UP  KUKU PALSU DEWASA       2002  KKP-3362D4   \n",
       "\n",
       "                                 ItemName  Gudang  Asemka  Tengsek  OnOrder  \\\n",
       "9324  KUKU PALSU DWS MTF FRENCH BOX PUTIH     0.0    18.0      1.0      0.0   \n",
       "\n",
       "      IsiCtn InventoryUoM  LastPurchasePrice  PriceFC  HargaJualLusin  \\\n",
       "9324    60.0          LSN           25771.72     10.2           35000   \n",
       "\n",
       "      HargaJualKoli  HargaJualSpecial Tanggal Last SO Tanggal Last GRPO  \\\n",
       "9324          34000             33000        08.07.24          25.05.24   \n",
       "\n",
       "     Tanggal Due Date GRPO  QtyLastGR  \n",
       "9324              04.06.24      360.0  "
      ]
     },
     "execution_count": 19,
     "metadata": {},
     "output_type": "execute_result"
    }
   ],
   "source": [
    "list.sample()"
   ]
  },
  {
   "cell_type": "code",
   "execution_count": 20,
   "metadata": {},
   "outputs": [],
   "source": [
    "listgudang = list[list['Gudang'] >=20]"
   ]
  },
  {
   "cell_type": "code",
   "execution_count": 25,
   "metadata": {},
   "outputs": [],
   "source": [
    "listtoko = list[(list['Asemka'] + list['Tengsek']) >=20]"
   ]
  },
  {
   "cell_type": "code",
   "execution_count": 38,
   "metadata": {},
   "outputs": [
    {
     "data": {
      "text/html": [
       "<div>\n",
       "<style scoped>\n",
       "    .dataframe tbody tr th:only-of-type {\n",
       "        vertical-align: middle;\n",
       "    }\n",
       "\n",
       "    .dataframe tbody tr th {\n",
       "        vertical-align: top;\n",
       "    }\n",
       "\n",
       "    .dataframe thead th {\n",
       "        text-align: right;\n",
       "    }\n",
       "</style>\n",
       "<table border=\"1\" class=\"dataframe\">\n",
       "  <thead>\n",
       "    <tr style=\"text-align: right;\">\n",
       "      <th></th>\n",
       "      <th>Kategori</th>\n",
       "      <th>SubItemName</th>\n",
       "      <th>VendorName</th>\n",
       "      <th>Item No.</th>\n",
       "      <th>ItemName</th>\n",
       "      <th>Gudang</th>\n",
       "      <th>Asemka</th>\n",
       "      <th>Tengsek</th>\n",
       "      <th>OnOrder</th>\n",
       "      <th>IsiCtn</th>\n",
       "      <th>InventoryUoM</th>\n",
       "      <th>LastPurchasePrice</th>\n",
       "      <th>PriceFC</th>\n",
       "      <th>HargaJualLusin</th>\n",
       "      <th>HargaJualKoli</th>\n",
       "      <th>HargaJualSpecial</th>\n",
       "      <th>Tanggal Last SO</th>\n",
       "      <th>Tanggal Last GRPO</th>\n",
       "      <th>Tanggal Due Date GRPO</th>\n",
       "      <th>QtyLastGR</th>\n",
       "    </tr>\n",
       "  </thead>\n",
       "  <tbody>\n",
       "    <tr>\n",
       "      <th>15467</th>\n",
       "      <td>TAS &amp; DOMPET</td>\n",
       "      <td>TAS PAPERBAG</td>\n",
       "      <td>2区-1楼-10311</td>\n",
       "      <td>TPB-4224B2</td>\n",
       "      <td>PAPERBAG BIRTHDAY UK 24X19,5X9,5 CM</td>\n",
       "      <td>180.0</td>\n",
       "      <td>52.0</td>\n",
       "      <td>60.0</td>\n",
       "      <td>0.0</td>\n",
       "      <td>60.0</td>\n",
       "      <td>LSN</td>\n",
       "      <td>31178.35</td>\n",
       "      <td>12.36</td>\n",
       "      <td>45000</td>\n",
       "      <td>44000</td>\n",
       "      <td>43000</td>\n",
       "      <td>05.11.24</td>\n",
       "      <td>15.10.24</td>\n",
       "      <td>21.10.24</td>\n",
       "      <td>360.0</td>\n",
       "    </tr>\n",
       "  </tbody>\n",
       "</table>\n",
       "</div>"
      ],
      "text/plain": [
       "           Kategori   SubItemName   VendorName    Item No.  \\\n",
       "15467  TAS & DOMPET  TAS PAPERBAG  2区-1楼-10311  TPB-4224B2   \n",
       "\n",
       "                                  ItemName  Gudang  Asemka  Tengsek  OnOrder  \\\n",
       "15467  PAPERBAG BIRTHDAY UK 24X19,5X9,5 CM   180.0    52.0     60.0      0.0   \n",
       "\n",
       "       IsiCtn InventoryUoM  LastPurchasePrice  PriceFC  HargaJualLusin  \\\n",
       "15467    60.0          LSN           31178.35    12.36           45000   \n",
       "\n",
       "       HargaJualKoli  HargaJualSpecial Tanggal Last SO Tanggal Last GRPO  \\\n",
       "15467          44000             43000        05.11.24          15.10.24   \n",
       "\n",
       "      Tanggal Due Date GRPO  QtyLastGR  \n",
       "15467              21.10.24      360.0  "
      ]
     },
     "execution_count": 38,
     "metadata": {},
     "output_type": "execute_result"
    }
   ],
   "source": [
    "listtoko.sample()"
   ]
  },
  {
   "cell_type": "code",
   "execution_count": 39,
   "metadata": {},
   "outputs": [
    {
     "data": {
      "text/html": [
       "<div>\n",
       "<style scoped>\n",
       "    .dataframe tbody tr th:only-of-type {\n",
       "        vertical-align: middle;\n",
       "    }\n",
       "\n",
       "    .dataframe tbody tr th {\n",
       "        vertical-align: top;\n",
       "    }\n",
       "\n",
       "    .dataframe thead th {\n",
       "        text-align: right;\n",
       "    }\n",
       "</style>\n",
       "<table border=\"1\" class=\"dataframe\">\n",
       "  <thead>\n",
       "    <tr style=\"text-align: right;\">\n",
       "      <th></th>\n",
       "      <th>#</th>\n",
       "      <th>Document Status</th>\n",
       "      <th>Canceled</th>\n",
       "      <th>Document Internal ID</th>\n",
       "      <th>Document Number</th>\n",
       "      <th>Posting Date</th>\n",
       "      <th>Due Date</th>\n",
       "      <th>Tanggal Loading</th>\n",
       "      <th>Container No.</th>\n",
       "      <th>Item No.</th>\n",
       "      <th>Quantity</th>\n",
       "      <th>Unit</th>\n",
       "      <th>Sub Item</th>\n",
       "      <th>Kategori</th>\n",
       "    </tr>\n",
       "  </thead>\n",
       "  <tbody>\n",
       "    <tr>\n",
       "      <th>19340</th>\n",
       "      <td>19341</td>\n",
       "      <td>C</td>\n",
       "      <td>N</td>\n",
       "      <td>756</td>\n",
       "      <td>240000133</td>\n",
       "      <td>17.05.24</td>\n",
       "      <td>21.05.24</td>\n",
       "      <td>24.04.24</td>\n",
       "      <td>FFAU1176764</td>\n",
       "      <td>SSR-2303H1</td>\n",
       "      <td>240.0</td>\n",
       "      <td>PAK</td>\n",
       "      <td>SISIR</td>\n",
       "      <td>ALAT MAKE UP</td>\n",
       "    </tr>\n",
       "  </tbody>\n",
       "</table>\n",
       "</div>"
      ],
      "text/plain": [
       "           # Document Status Canceled  Document Internal ID  Document Number  \\\n",
       "19340  19341               C        N                   756        240000133   \n",
       "\n",
       "      Posting Date  Due Date Tanggal Loading Container No.    Item No.  \\\n",
       "19340     17.05.24  21.05.24        24.04.24   FFAU1176764  SSR-2303H1   \n",
       "\n",
       "       Quantity Unit Sub Item      Kategori  \n",
       "19340     240.0  PAK    SISIR  ALAT MAKE UP  "
      ]
     },
     "execution_count": 39,
     "metadata": {},
     "output_type": "execute_result"
    }
   ],
   "source": [
    "purchase.sample()"
   ]
  }
 ],
 "metadata": {
  "kernelspec": {
   "display_name": "Python 3",
   "language": "python",
   "name": "python3"
  },
  "language_info": {
   "codemirror_mode": {
    "name": "ipython",
    "version": 3
   },
   "file_extension": ".py",
   "mimetype": "text/x-python",
   "name": "python",
   "nbconvert_exporter": "python",
   "pygments_lexer": "ipython3",
   "version": "3.11.5"
  }
 },
 "nbformat": 4,
 "nbformat_minor": 2
}
